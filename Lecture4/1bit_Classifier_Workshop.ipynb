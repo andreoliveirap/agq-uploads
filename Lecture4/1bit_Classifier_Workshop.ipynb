{
 "cells": [
  {
   "cell_type": "markdown",
   "id": "248ff323-68d1-4e90-86ae-e7d2c864721a",
   "metadata": {},
   "source": [
    "# Train a 1-bit model\n",
    "\n",
    "This notebook is an example of a building a 1-bit model which can be used to classify images.\n",
    "\n",
    "One of the reasons why this model is intersting is all of the information is stored in the network/graph structure and there are only weights of +/-1 in the model.\n",
    "\n",
    "This means the model can be more easily adapted to situations which have low computing power but high throughput."
   ]
  },
  {
   "cell_type": "code",
   "execution_count": 1,
   "id": "79d3ac9c-d91c-43e8-a360-09d0d5ff3005",
   "metadata": {
    "scrolled": true
   },
   "outputs": [],
   "source": [
    "# Importing the classes we need\n",
    "\n",
    "import torch\n",
    "import torch.nn as nn\n",
    "import torch.optim as optim\n",
    "import torch.nn.functional as F\n",
    "from torchvision import datasets, transforms\n",
    "from torch.utils.data import DataLoader"
   ]
  },
  {
   "cell_type": "code",
   "execution_count": 2,
   "id": "11128e18-5412-4213-a232-d8e22a5baad4",
   "metadata": {
    "scrolled": true
   },
   "outputs": [],
   "source": [
    "# Device configuration\n",
    "device = torch.device('cpu')\n",
    "\n",
    "# Hyperparameters for our training\n",
    "batch_size = 64\n",
    "learning_rate = 0.01\n",
    "epochs = 10"
   ]
  },
  {
   "cell_type": "code",
   "execution_count": 3,
   "id": "655eba90-a4f2-4e4c-92c3-7aabf40a9a15",
   "metadata": {
    "scrolled": true
   },
   "outputs": [],
   "source": [
    "# We're looking to build an integer based model after training so load our dataset into ints vs floats\n",
    "\n",
    "# Ensure the input is a tensor before applying the integer conversion\n",
    "def preprocess_mnist_to_uint8(images):\n",
    "    images = transforms.ToTensor()(images)  # Convert PIL to Tensor\n",
    "    images = (images * 255).clamp(0, 255).to(torch.int32)  # Convert to uint8\n",
    "    return images\n",
    "\n",
    "# Data loading and preprocessing\n",
    "transform = transforms.Compose([\n",
    "    transforms.Lambda(preprocess_mnist_to_uint8)  # Apply uint8 conversion\n",
    "])"
   ]
  },
  {
   "cell_type": "code",
   "execution_count": 4,
   "id": "06a9ed39-89d1-478a-9b23-fef4d0bde103",
   "metadata": {
    "scrolled": true
   },
   "outputs": [],
   "source": [
    "# As in previous weeks we need to define a data-loader for our datasets\n",
    "\n",
    "train_dataset = datasets.MNIST(root='./data', train=True, download=True, transform=transform)\n",
    "test_dataset = datasets.MNIST(root='./data', train=False, download=True, transform=transform)\n",
    "\n",
    "train_loader = DataLoader(dataset=train_dataset, batch_size=batch_size, shuffle=True)\n",
    "test_loader = DataLoader(dataset=test_dataset, batch_size=batch_size, shuffle=False)"
   ]
  },
  {
   "cell_type": "code",
   "execution_count": 5,
   "id": "2784fa66-e41f-4f9f-a2c1-d7edb93a7b90",
   "metadata": {
    "scrolled": true
   },
   "outputs": [],
   "source": [
    "# Binary Quantization Function with STE (+1/-1)\n",
    "class BinaryQuantizeSTE(torch.autograd.Function):\n",
    "\n",
    "    # Moving forwards in training we want to pass only the sign of the weight\n",
    "    # This is something which can be quantized into 1-bit of information\n",
    "    @staticmethod\n",
    "    def forward(ctx, input):\n",
    "        return input.sign()  # Binary quantization to +1/-1\n",
    "\n",
    "    # Moving back through the model we want to pass the full gradient\n",
    "    # This makes it easier when training to get a stable result\n",
    "    @staticmethod\n",
    "    def backward(ctx, grad_output):\n",
    "        return grad_output  # Straight-Through Estimator (STE)\n",
    "\n",
    "# Binary Neural Network with Sign Activation\n",
    "class BinaryNet(nn.Module):\n",
    "    def __init__(self):\n",
    "        super(BinaryNet, self).__init__()\n",
    "\n",
    "        # We want to construct 3 FUlly-Interconnected layers without biases\n",
    "        # These should go from the mnist input (28x28) to a classifier decision (10)\n",
    "        # I would recommend input -> 1024 -> 512 -> 10\n",
    "        self.fc1 = nn.Linear(28*28, ## FINISH_ME ##\n",
    "        self.fc2 = nn.Linear( ## FINISH_ME ##\n",
    "        self.fc3 = nn.Linear(512, 10, bias=False)\n",
    "\n",
    "    def forward(self, x):\n",
    "        # First we 'flatten' our input into 1D so DNN can use this\n",
    "        x = x.view(-1, 28*28).to(torch.float)\n",
    "\n",
    "        # Now we need to use our custom layer to quantize the outputs as we train\n",
    "        x = BinaryQuantizeSTE.apply(self.fc1(x))\n",
    "        x = BinaryQuantizeSTE.apply( ## FINISH_ME ## )\n",
    "\n",
    "        # Careful not to binary-quantize the output layer for stability\n",
    "        x = self.fc3(x)\n",
    "        return x"
   ]
  },
  {
   "cell_type": "code",
   "execution_count": 6,
   "id": "18ce14fe-31e4-40ff-b120-33f5ea67d862",
   "metadata": {
    "scrolled": true
   },
   "outputs": [],
   "source": [
    "# Model, Loss, Optimizer\n",
    "model = BinaryNet().to(device)\n",
    "# We want binary cross entropy for our loss function\n",
    "criterion = nn.CrossEntropyLoss()\n",
    "# We will use SGD with the learning rate given above\n",
    "optimizer = optim.SGD(model.parameters(), lr=learning_rate)"
   ]
  },
  {
   "cell_type": "code",
   "execution_count": 7,
   "id": "faaedda1-1150-453d-a240-23bd38d55023",
   "metadata": {
    "scrolled": true
   },
   "outputs": [
    {
     "name": "stdout",
     "output_type": "stream",
     "text": [
      "Epoch [1/10], Loss: 0.3724, Accuracy: 89.29%\n",
      "Epoch [2/10], Loss: 0.2789, Accuracy: 91.88%\n",
      "Epoch [3/10], Loss: 0.2644, Accuracy: 92.30%\n",
      "Epoch [4/10], Loss: 0.2564, Accuracy: 92.59%\n",
      "Epoch [5/10], Loss: 0.2505, Accuracy: 92.65%\n",
      "Epoch [6/10], Loss: 0.2502, Accuracy: 92.69%\n",
      "Epoch [7/10], Loss: 0.2467, Accuracy: 92.81%\n",
      "Epoch [8/10], Loss: 0.2454, Accuracy: 92.82%\n",
      "Epoch [9/10], Loss: 0.2449, Accuracy: 92.83%\n",
      "Epoch [10/10], Loss: 0.2458, Accuracy: 92.73%\n"
     ]
    }
   ],
   "source": [
    "# Training and Evaluation\n",
    "for epoch in range(epochs):\n",
    "\n",
    "    # First put the model into training mode and set some observables\n",
    "    model.train()\n",
    "    running_loss = 0.0\n",
    "    correct = 0\n",
    "    total = 0\n",
    "\n",
    "    # Iterate through all of our training data\n",
    "    for images, labels in train_loader:\n",
    "        images, labels = images.to(device), labels.to(device)\n",
    "\n",
    "        # Perform the training\n",
    "        # Forward evaluate\n",
    "        # Calculate loss\n",
    "        # Back-Propagate\n",
    "        # Apply Optimization\n",
    "        optimizer.zero_grad()\n",
    "        outputs = ## FINISH_ME ##\n",
    "        loss = ## FINISH_ME ##\n",
    "        loss.backward()\n",
    "        optimizer.step()\n",
    "\n",
    "        # Take our losses and outputs and work out\n",
    "        # How many times did we evaluate correctly? \n",
    "        running_loss += loss.item()\n",
    "        _, predicted = outputs.max(1)\n",
    "        total += labels.size(0)\n",
    "        correct += predicted.eq(labels).sum().item()\n",
    "\n",
    "    # Print training stats per epoch\n",
    "    print(f'Epoch [{epoch+1}/{epochs}], Loss: {running_loss/len(train_loader):.4f}, Accuracy: {100 * correct / total:.2f}%')"
   ]
  },
  {
   "cell_type": "code",
   "execution_count": 8,
   "id": "efcd0e0b-e013-414b-9641-12adb1667c23",
   "metadata": {
    "scrolled": true
   },
   "outputs": [],
   "source": [
    "# This method will capture the quantized weights from our trained model as ints\n",
    "\n",
    "# Quantize weights to ±1\n",
    "def quantize_weights(model):\n",
    "    quantized_state_dict = {}\n",
    "    for name, param in model.named_parameters():\n",
    "        quantized_state_dict[name] = param.detach().sign().to(torch.int32)\n",
    "    return quantized_state_dict\n",
    "\n",
    "# Lets store the quantized weight values\n",
    "quantized_weights = quantize_weights(model)"
   ]
  },
  {
   "cell_type": "code",
   "execution_count": 9,
   "id": "67615327-7a6b-463a-9494-ecc291f39fae",
   "metadata": {
    "scrolled": true
   },
   "outputs": [],
   "source": [
    "# Now we want to build a model which only uses integer weights\n",
    "\n",
    "# Optimized 1-bit Integer Model\n",
    "class OneBitIntegerNet(nn.Module):\n",
    "    def __init__(self, quantized_weights):\n",
    "        super(OneBitIntegerNet, self).__init__()\n",
    "        self.fc1_weight = quantized_weights['fc1.weight'].to(device).to(torch.int32)\n",
    "        self.fc2_weight = quantized_weights['fc2.weight'].to(device).to(torch.int32)\n",
    "        self.fc3_weight = quantized_weights['fc3.weight'].to(device).to(torch.int32)\n",
    "\n",
    "    def forward(self, x):\n",
    "        # Again we need to 'flatten' our input\n",
    "        x = x.view(-1, 28*28)  # Scale to 0-1\n",
    "\n",
    "        # Now we want to explicity evaluate forward through our 1-bit model\n",
    "        x = torch.matmul(x, self.fc1_weight.t())\n",
    "        x = torch.matmul(x, self.fc2_weight.t())\n",
    "        x = torch.matmul(x, self.fc3_weight.t())\n",
    "        return x"
   ]
  },
  {
   "cell_type": "code",
   "execution_count": 10,
   "id": "f95ce2cc-2f18-4ac3-a440-e82835587659",
   "metadata": {
    "scrolled": true
   },
   "outputs": [
    {
     "name": "stdout",
     "output_type": "stream",
     "text": [
      "Test Accuracy with Full Precision Model: 92.36%\n"
     ]
    }
   ],
   "source": [
    "# Full Precision Model Inference Accuracy\n",
    "model.eval()\n",
    "correct = 0\n",
    "total = 0\n",
    "\n",
    "with torch.no_grad():\n",
    "    # Iterate through out test data\n",
    "    for images, labels in test_loader:\n",
    "\n",
    "        images, labels = images.to(device), labels.to(device)\n",
    "        outputs = model(images)\n",
    "        _, predicted = outputs.max(1)\n",
    "        # Track how many times we evaluated and how correct we are\n",
    "        total += labels.size(0)\n",
    "        correct += ## FINISH_ME ##\n",
    "\n",
    "print(f'Test Accuracy with Full Precision Model: {100 * correct / total:.2f}%')"
   ]
  },
  {
   "cell_type": "code",
   "execution_count": 11,
   "id": "cd76f1c4-77ae-458c-9c4b-ccf0105b0ef0",
   "metadata": {
    "scrolled": true
   },
   "outputs": [
    {
     "name": "stdout",
     "output_type": "stream",
     "text": [
      "Test Accuracy with 1-bit Integer Model: 78.80%\n"
     ]
    }
   ],
   "source": [
    "# Testing with 1-bit Integer Model Accuracy\n",
    "one_bit_model = OneBitIntegerNet(quantized_weights)\n",
    "one_bit_model = one_bit_model.to(device)\n",
    "\n",
    "one_bit_model.eval()\n",
    "correct = 0\n",
    "total = 0\n",
    "\n",
    "with torch.no_grad():\n",
    "    # Iterate through out test data\n",
    "    for images, labels in test_loader:\n",
    "        images, labels = images.to(device), labels.to(device)\n",
    "        \n",
    "        outputs = one_bit_model(images)\n",
    "        _, predicted = outputs.max(1)\n",
    "        # Track how many times we evaluated and how correct we are\n",
    "        total += labels.size(0)\n",
    "        correct += ## FINISH_ME ##\n",
    "\n",
    "print(f'Test Accuracy with 1-bit Integer Model: {100 * correct / total:.2f}%')"
   ]
  }
 ],
 "metadata": {
  "kernelspec": {
   "display_name": "Python 3 (ipykernel)",
   "language": "python",
   "name": "python3"
  },
  "language_info": {
   "codemirror_mode": {
    "name": "ipython",
    "version": 3
   },
   "file_extension": ".py",
   "mimetype": "text/x-python",
   "name": "python",
   "nbconvert_exporter": "python",
   "pygments_lexer": "ipython3",
   "version": "3.12.8"
  }
 },
 "nbformat": 4,
 "nbformat_minor": 5
}
